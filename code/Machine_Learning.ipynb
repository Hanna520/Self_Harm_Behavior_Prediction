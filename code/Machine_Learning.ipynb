{
 "cells": [
  {
   "cell_type": "markdown",
   "metadata": {},
   "source": [
    "## Suicidal and Self-Injurious Incidents Prediction"
   ]
  },
  {
   "cell_type": "markdown",
   "metadata": {},
   "source": [
    "#### This script runs Machine Learning models on structured data alone and on structured data alongside predicted probabiliites from the Transformer Encoder model on ntoes data alone, with and without under-sampling."
   ]
  },
  {
   "cell_type": "markdown",
   "metadata": {},
   "source": [
    "### Load Data"
   ]
  },
  {
   "cell_type": "code",
   "execution_count": 66,
   "metadata": {},
   "outputs": [],
   "source": [
    "# Import libraries\n",
    "import warnings\n",
    "warnings.filterwarnings('ignore')\n",
    "\n",
    "# For handeling dataframes\n",
    "import pandas as pd\n",
    "import numpy as np\n",
    "import gzip\n",
    "import re                                  # For regular expression operations\n",
    "import string                              # For string operations\n",
    "import math\n",
    "import time\n",
    "import random\n",
    "import gc\n",
    "\n",
    "\n",
    "\n",
    "# For building neural netwrok models\n",
    "import sklearn\n",
    "from sklearn.model_selection import StratifiedShuffleSplit\n",
    "import tensorflow as tf\n",
    "from tensorflow.keras.utils import to_categorical\n",
    "from tensorflow import keras\n",
    "from tensorflow.keras.preprocessing.sequence import pad_sequences\n",
    "from tensorflow.keras.models import Sequential, Model\n",
    "from tensorflow.keras import layers, losses\n",
    "from tensorflow.keras.layers import Dense, Flatten, MaxPooling1D, Dropout\n",
    "from tensorflow.keras.optimizers import SGD, Adam\n",
    "\n",
    "# For model evaluation\n",
    "from sklearn import metrics\n",
    "from sklearn.metrics import confusion_matrix\n",
    "from sklearn.metrics import average_precision_score, precision_recall_curve\n",
    "from sklearn.metrics import auc, plot_precision_recall_curve\n",
    "from sklearn.metrics import roc_auc_score\n",
    "from sklearn.model_selection import train_test_split\n",
    "from sklearn import preprocessing\n",
    "from sklearn.preprocessing import StandardScaler\n",
    "from sklearn.metrics import classification_report\n",
    "from sklearn.linear_model import LogisticRegression\n",
    "from sklearn.linear_model import Lasso\n",
    "from sklearn.linear_model import ElasticNet\n",
    "from sklearn.neighbors import KNeighborsClassifier \n",
    "from sklearn.decomposition import KernelPCA\n",
    "from sklearn.svm import SVC\n",
    "from sklearn.ensemble import RandomForestClassifier\n",
    "from xgboost import XGBClassifier\n",
    "from sklearn.model_selection import GridSearchCV"
   ]
  },
  {
   "cell_type": "code",
   "execution_count": 67,
   "metadata": {},
   "outputs": [
    {
     "data": {
      "text/plain": [
       "(87975, 18)"
      ]
     },
     "execution_count": 67,
     "metadata": {},
     "output_type": "execute_result"
    }
   ],
   "source": [
    "# Load the data\n",
    "data = pd.read_csv(\"Z:/rscripts/users/interns/hlu/data/cleaned_model_str_notes_Alex.csv\")\n",
    "data.shape"
   ]
  },
  {
   "cell_type": "code",
   "execution_count": 68,
   "metadata": {},
   "outputs": [
    {
     "data": {
      "text/plain": [
       "Index(['Unnamed: 0', 'InmateID', 'BookingNumber', 'DateOfBirth', 'Sex', 'Race',\n",
       "       'MaritalStatus', 'BookingDate', 'LastUpdateDateTime', 'ReleaseDate',\n",
       "       'soap_sub', 'soap_obj', 'soap_ass', 'soap_plan', 'quick_notes', 'event',\n",
       "       'age', 'AB109'],\n",
       "      dtype='object')"
      ]
     },
     "execution_count": 68,
     "metadata": {},
     "output_type": "execute_result"
    }
   ],
   "source": [
    "data.columns"
   ]
  },
  {
   "cell_type": "code",
   "execution_count": 75,
   "metadata": {},
   "outputs": [],
   "source": [
    "# Delete the useless column\n",
    "structured = data[['Sex', 'Race', 'MaritalStatus', 'age', 'AB109', 'event']]"
   ]
  },
  {
   "cell_type": "code",
   "execution_count": 76,
   "metadata": {},
   "outputs": [],
   "source": [
    "structured['AB109'] = [1 if x==\"Ture\" else 0 for x in structured['AB109']]"
   ]
  },
  {
   "cell_type": "code",
   "execution_count": 77,
   "metadata": {},
   "outputs": [],
   "source": [
    "def age_group(x):\n",
    "    if x < 25:\n",
    "        group = 'lt_25'\n",
    "    elif x < 35:\n",
    "        group = '25-35'\n",
    "    elif x < 45:\n",
    "        group = '35-45'\n",
    "    elif x < 55:\n",
    "        group = '45-55'\n",
    "    else:\n",
    "        group = 'gt_55'\n",
    "    \n",
    "    return(group)"
   ]
  },
  {
   "cell_type": "code",
   "execution_count": 78,
   "metadata": {},
   "outputs": [],
   "source": [
    "structured['age_cat'] = [age_group(x) for x in structured['age']] # group age"
   ]
  },
  {
   "cell_type": "code",
   "execution_count": 136,
   "metadata": {},
   "outputs": [],
   "source": [
    "X = pd.get_dummies(structured[['Sex','Race','MaritalStatus','age_cat','AB109']])\n",
    "y = structured['event']"
   ]
  },
  {
   "cell_type": "code",
   "execution_count": 81,
   "metadata": {},
   "outputs": [],
   "source": [
    "def evaluate(model, X, y):\n",
    "    y_pred = model.predict(X)\n",
    "    pred = (y_pred > 0.5).astype(\"int32\")\n",
    "    \n",
    "    tn, fp, fn, tp = confusion_matrix(y, pred).ravel()\n",
    "\n",
    "    precision = tp/(tp + fp)\n",
    "    recall = tp/(tp + fn)\n",
    "    specificity = tn/(tn + fp)\n",
    "    f1 = (2*precision*recall)/(precision + recall)\n",
    "    acc = (tp+tn)/(tn+fp+fn+tp)\n",
    "    \n",
    "    auc_roc = round(roc_auc_score(y, y_pred),4)\n",
    "    pre, rec, thresholds = precision_recall_curve(y, y_pred)\n",
    "    auc_pr = round(auc(rec, pre),4)\n",
    "    return(auc_roc, auc_pr, acc, precision, recall, specificity, f1, tn, fp, fn, tp)"
   ]
  },
  {
   "cell_type": "markdown",
   "metadata": {},
   "source": [
    "### Load indicies and predictions from notes"
   ]
  },
  {
   "cell_type": "code",
   "execution_count": 82,
   "metadata": {},
   "outputs": [],
   "source": [
    "# Load the 10 training and test sets\n",
    "pd_train_idx_10 = pd.read_csv('other/pd_train_idx_10.csv')\n",
    "pd_test_idx_10 = pd.read_csv('other/pd_test_idx_10.csv')\n",
    "\n",
    "pd_train_idx_10.drop('Unnamed: 0', axis=1, inplace=True)\n",
    "pd_test_idx_10.drop('Unnamed: 0', axis=1, inplace=True)"
   ]
  },
  {
   "cell_type": "code",
   "execution_count": 84,
   "metadata": {
    "scrolled": true
   },
   "outputs": [
    {
     "data": {
      "text/html": [
       "<div>\n",
       "<style scoped>\n",
       "    .dataframe tbody tr th:only-of-type {\n",
       "        vertical-align: middle;\n",
       "    }\n",
       "\n",
       "    .dataframe tbody tr th {\n",
       "        vertical-align: top;\n",
       "    }\n",
       "\n",
       "    .dataframe thead th {\n",
       "        text-align: right;\n",
       "    }\n",
       "</style>\n",
       "<table border=\"1\" class=\"dataframe\">\n",
       "  <thead>\n",
       "    <tr style=\"text-align: right;\">\n",
       "      <th></th>\n",
       "      <th>0</th>\n",
       "      <th>1</th>\n",
       "      <th>2</th>\n",
       "      <th>3</th>\n",
       "      <th>4</th>\n",
       "      <th>5</th>\n",
       "      <th>6</th>\n",
       "      <th>7</th>\n",
       "      <th>8</th>\n",
       "      <th>9</th>\n",
       "    </tr>\n",
       "  </thead>\n",
       "  <tbody>\n",
       "    <tr>\n",
       "      <th>0</th>\n",
       "      <td>21382</td>\n",
       "      <td>67168</td>\n",
       "      <td>44241</td>\n",
       "      <td>32895</td>\n",
       "      <td>50243</td>\n",
       "      <td>16907</td>\n",
       "      <td>59817</td>\n",
       "      <td>84579</td>\n",
       "      <td>42076</td>\n",
       "      <td>26331</td>\n",
       "    </tr>\n",
       "    <tr>\n",
       "      <th>1</th>\n",
       "      <td>9973</td>\n",
       "      <td>21571</td>\n",
       "      <td>52839</td>\n",
       "      <td>8788</td>\n",
       "      <td>67684</td>\n",
       "      <td>29912</td>\n",
       "      <td>11357</td>\n",
       "      <td>46855</td>\n",
       "      <td>26480</td>\n",
       "      <td>55932</td>\n",
       "    </tr>\n",
       "  </tbody>\n",
       "</table>\n",
       "</div>"
      ],
      "text/plain": [
       "       0      1      2      3      4      5      6      7      8      9\n",
       "0  21382  67168  44241  32895  50243  16907  59817  84579  42076  26331\n",
       "1   9973  21571  52839   8788  67684  29912  11357  46855  26480  55932"
      ]
     },
     "execution_count": 84,
     "metadata": {},
     "output_type": "execute_result"
    }
   ],
   "source": [
    "pd_train_idx_10.head(2)"
   ]
  },
  {
   "cell_type": "code",
   "execution_count": 85,
   "metadata": {},
   "outputs": [],
   "source": [
    "# Load predictions from text data\n",
    "\n",
    "pd_pred_train_10 = pd.read_csv(\"other2\\pd_pred_train_10.csv\")\n",
    "pd_pred_test_10 = pd.read_csv(\"other2\\pd_pred_test_10.csv\")\n",
    "\n",
    "pd_pred_train_10.drop('Unnamed: 0', axis=1, inplace=True)\n",
    "pd_pred_test_10.drop('Unnamed: 0', axis=1, inplace=True)"
   ]
  },
  {
   "cell_type": "code",
   "execution_count": 87,
   "metadata": {},
   "outputs": [
    {
     "data": {
      "text/plain": [
       "0"
      ]
     },
     "execution_count": 87,
     "metadata": {},
     "output_type": "execute_result"
    }
   ],
   "source": [
    "sum(pd_pred_train_10.iloc[:,4].isna())"
   ]
  },
  {
   "cell_type": "markdown",
   "metadata": {},
   "source": [
    "## Run models"
   ]
  },
  {
   "cell_type": "code",
   "execution_count": 88,
   "metadata": {},
   "outputs": [],
   "source": [
    "model_lg = LogisticRegression(penalty = 'l1', solver = 'liblinear', C=5, l1_ratio =0)\n",
    "model_rf = RandomForestClassifier(min_samples_split = 5, criterion = 'entropy', max_depth = 10,max_features='auto')\n",
    "model_xgboost = XGBClassifier(verbosity = 0, booster = 'gblinear', max_depth = 4, n_estimators = 200)\n",
    "model_knn = KNeighborsClassifier(n_neighbors = 5, weights= 'distance')\n",
    "model_svm = SVC(kernel=\"rbf\", C=0.1, gamma=0.001, probability=True)\n",
    "\n",
    "models = [model_lg, model_rf, model_xgboost, model_knn, model_svm]\n",
    "model_names = ['model_lg', 'model_rf', 'model_xgboost', 'model_knn', 'model_svm']"
   ]
  },
  {
   "cell_type": "code",
   "execution_count": 89,
   "metadata": {},
   "outputs": [],
   "source": [
    "# Take the log of the predicted probabilities to avoid near 0 values\n",
    "def log_data(x):\n",
    "    if np.log(x) < -100:\n",
    "        log_x = -100\n",
    "    else:\n",
    "        log_x = np.log(x)\n",
    "    \n",
    "    return(log_x)"
   ]
  },
  {
   "cell_type": "markdown",
   "metadata": {},
   "source": [
    "## No Undersampling Without Predictions from Notes"
   ]
  },
  {
   "cell_type": "code",
   "execution_count": 90,
   "metadata": {},
   "outputs": [
    {
     "name": "stdout",
     "output_type": "stream",
     "text": [
      "iter1 ....\n",
      "iter2 ....\n",
      "iter3 ....\n",
      "iter4 ....\n",
      "iter5 ....\n",
      "iter6 ....\n",
      "iter7 ....\n",
      "iter8 ....\n",
      "iter9 ....\n",
      "iter10 ....\n"
     ]
    }
   ],
   "source": [
    "with open('structured_textpred/structured_only.csv','a') as fd:\n",
    "    fd.write(f'Structured data only + no understampling + Save Predictions for Ensemble\\n')\n",
    "\n",
    "\n",
    "pred_train_10 = []\n",
    "pred_test_10 = []\n",
    "    \n",
    "j = 0 # to keep track of the iteration number    \n",
    "for ii in range(10):\n",
    "    time_s = time.time()\n",
    "    \n",
    "    # Train and test data\n",
    "    train_index = pd_train_idx_10.iloc[:, ii].values\n",
    "    test_index = pd_test_idx_10.iloc[:, ii].values\n",
    "    \n",
    "    j += 1\n",
    "    iteration = \"iter\" + str(j)\n",
    "    print(iteration, '....')\n",
    "    x_train, x_test = X.iloc[train_index,:], X.iloc[test_index,:]\n",
    "    y_train, y_test = y[train_index], y[test_index]\n",
    "    \n",
    "     # Run models\n",
    "    for jj in range(len(models)):\n",
    "        model_time_start = time.time()\n",
    "        model = models[jj]\n",
    "        model.fit(x_train, y_train)\n",
    "         # Collect and log evaluation metrics\n",
    "        auc_roc, auc_pr, acc, precision, recall, specificity, f1, tn, fp, fn, tp = evaluate(model, x_test, y_test)\n",
    "        model_time = time.time() - model_time_start\n",
    "        \n",
    "        \n",
    "         # Save predictions\n",
    "        pred_train = model.predict_proba(x_train)    \n",
    "        pred_train_10.append(pred_train[:,1])\n",
    "        np.save('other/predictions_ML/' + 'pred_train_pct28_noText' + str(model_names[jj]), pred_train)\n",
    "        \n",
    "        pred_test = model.predict_proba(x_test)\n",
    "        pred_test_10.append(pred_test[:,1])\n",
    "        np.save('other/predictions_ML/' + 'pred_train_pct28_noText' + str(model_names[jj]), pred_test)\n",
    "\n",
    "        with open('structured_textpred/structured_only.csv','a') as fd:\n",
    "            fd.write(f'{model_names[jj]},{iteration},{auc_roc},{auc_pr},{acc},{precision},{recall},{specificity},{f1},{tn}, {fp}, {fn}, {tp},{model_time}\\n')\n",
    "\n",
    "# Save predicted probabilities for ensemble models\n",
    "pd_pred_train_10 = pd.DataFrame(np.array(pred_train_10).reshape(np.array(pred_train_10).shape[0],np.array(pred_train_10).shape[1]))\n",
    "pd_pred_train_10 = pd_pred_train_10.transpose()\n",
    "\n",
    "pd_pred_test_10 = pd.DataFrame(np.array(pred_test_10).reshape(np.array(pred_test_10).shape[0],np.array(pred_test_10).shape[1]))\n",
    "pd_pred_test_10 = pd_pred_test_10.transpose()\n",
    "\n",
    "pd_pred_train_10.to_csv(\"other2\\pd_pred_train_10_ML_noText_pct28.csv\") # save predictions from machine learning models\n",
    "pd_pred_test_10.to_csv(\"other2\\pd_pred_test_10_ML_noText_pct28.csv\") # save predictions from machine learning models"
   ]
  },
  {
   "cell_type": "markdown",
   "metadata": {},
   "source": [
    "## Undersampling without Predictions from Notes"
   ]
  },
  {
   "cell_type": "code",
   "execution_count": 95,
   "metadata": {},
   "outputs": [
    {
     "name": "stdout",
     "output_type": "stream",
     "text": [
      "iter0 ....\n",
      "iter1 ....\n",
      "iter2 ....\n",
      "iter3 ....\n",
      "iter4 ....\n",
      "iter5 ....\n",
      "iter6 ....\n",
      "iter7 ....\n",
      "iter8 ....\n",
      "iter9 ....\n"
     ]
    }
   ],
   "source": [
    "# Undersampling to pct prevalence\n",
    "pct = 0.1\n",
    "\n",
    "# Load the 10 undersampled training sets\n",
    "pd_train_idx_10pct = pd.read_csv(f'other3/pd_under_idx_10_pct_{pct}.csv')\n",
    "\n",
    "pred_train_10 = []\n",
    "pred_test_10 = []\n",
    "\n",
    "with open('structured_textpred/structured_only.csv','a') as fd:\n",
    "    fd.write(f'Undersampling Structured Data only to pct_{pct} prevalence + Save predictions for Ensemble Learner\\n')\n",
    "    \n",
    "    \n",
    "for ii in range(10):\n",
    "    time_s = time.time()\n",
    "    \n",
    "    # Train and test data\n",
    "    train_index = pd_train_idx_10pct.iloc[:, ii].values # Undersampled training sets\n",
    "    test_index = pd_test_idx_10.iloc[:, ii].values # Test sets remain the same\n",
    "    \n",
    "\n",
    "    iteration = \"iter\" + str(ii) # to keep track of the iteration number \n",
    "    print(iteration, '....')\n",
    "    x_train, x_test = X.iloc[train_index,:], X.iloc[test_index,:]\n",
    "    y_train, y_test = y[train_index], y[test_index]\n",
    "    \n",
    "     # Run models\n",
    "    for jj in range(len(models)):\n",
    "        model_time_start = time.time()\n",
    "        model = models[jj]\n",
    "        model.fit(x_train, y_train)\n",
    "        \n",
    "         # Collect and log evaluation metrics\n",
    "        auc_roc, auc_pr, acc, precision, recall, specificity, f1, tn, fp, fn, tp = evaluate(model, x_test, y_test)\n",
    "        model_time = time.time() - model_time_start\n",
    "\n",
    "        with open('structured_textpred/structured_only.csv','a') as fd:\n",
    "            fd.write(f'{model_names[jj]},{iteration},{auc_roc},{auc_pr},{acc},{precision},{recall},{specificity},{f1},{tn}, {fp}, {fn}, {tp},{model_time}\\n')\n",
    "\n",
    "        # Save predictions\n",
    "        pred_train = model.predict_proba(x_train)    \n",
    "        pred_train_10.append(pred_train[:,1])\n",
    "        np.save('other/predictions_ML/' + f'pred_train_pct{pct}_noText' + str(model_names[jj]), pred_train)\n",
    "        \n",
    "        pred_test = model.predict_proba(x_test)\n",
    "        pred_test_10.append(pred_test[:,1])\n",
    "        np.save(f'other/predictions_ML/' + f'pred_train_pct{pct}_noText' + str(model_names[jj]), pred_test)\n",
    "        \n",
    "# Save predicted probabilities for ensemble models\n",
    "pd_pred_train_10 = pd.DataFrame(np.array(pred_train_10).reshape(np.array(pred_train_10).shape[0],np.array(pred_train_10).shape[1]))\n",
    "pd_pred_train_10 = pd_pred_train_10.transpose()\n",
    "\n",
    "pd_pred_test_10 = pd.DataFrame(np.array(pred_test_10).reshape(np.array(pred_test_10).shape[0],np.array(pred_test_10).shape[1]))\n",
    "pd_pred_test_10 = pd_pred_test_10.transpose()\n",
    "\n",
    "pd_pred_train_10.to_csv(f\"other2\\pd_pred_train_10_ML_noText_pct{pct}.csv\") # save predictions from machine learning models\n",
    "pd_pred_test_10.to_csv(f\"other2\\pd_pred_test_10_ML_noText_pct{pct}.csv\") # save predictions from machine learning models"
   ]
  },
  {
   "cell_type": "markdown",
   "metadata": {},
   "source": [
    "## No undersampling + Predictions from Notes"
   ]
  },
  {
   "cell_type": "code",
   "execution_count": 104,
   "metadata": {},
   "outputs": [
    {
     "data": {
      "text/plain": [
       "array([[-33.38693239],\n",
       "       [-28.42784878],\n",
       "       [-30.98754316],\n",
       "       ...,\n",
       "       [-22.89752773],\n",
       "       [-33.81137466],\n",
       "       [-31.31847383]])"
      ]
     },
     "execution_count": 104,
     "metadata": {},
     "output_type": "execute_result"
    }
   ],
   "source": [
    "np.asarray(x_train['pred_text']).reshape(-1,1)"
   ]
  },
  {
   "cell_type": "code",
   "execution_count": 105,
   "metadata": {},
   "outputs": [
    {
     "name": "stdout",
     "output_type": "stream",
     "text": [
      "iter1 ....\n",
      "iter2 ....\n",
      "iter3 ....\n",
      "iter4 ....\n",
      "iter5 ....\n",
      "iter6 ....\n",
      "iter7 ....\n",
      "iter8 ....\n",
      "iter9 ....\n",
      "iter10 ....\n"
     ]
    }
   ],
   "source": [
    "# Load predictions from text data\n",
    "\n",
    "pd_pred_train_10 = pd.read_csv(\"other2\\pd_pred_train_10.csv\")\n",
    "pd_pred_test_10 = pd.read_csv(\"other2\\pd_pred_test_10.csv\")\n",
    "\n",
    "pd_pred_train_10.drop('Unnamed: 0', axis=1, inplace=True)\n",
    "pd_pred_test_10.drop('Unnamed: 0', axis=1, inplace=True)\n",
    "\n",
    "with open('structured_textpred/structured_textpred.csv','a') as fd:\n",
    "    fd.write(f'Structured data + predictions from text data + no understampling + save predictions for ensemble\\n')\n",
    "    \n",
    "\n",
    "pred_train_10 = []\n",
    "pred_test_10 = []\n",
    "\n",
    "\n",
    "j = 0 # to keep track of the iteration number    \n",
    "for ii in range(10):\n",
    "    time_s = time.time()\n",
    "    \n",
    "    # Train and test data\n",
    "    train_index = pd_train_idx_10.iloc[:, ii].values\n",
    "    test_index = pd_test_idx_10.iloc[:, ii].values\n",
    "    \n",
    "    j += 1\n",
    "    iteration = \"iter\" + str(j)\n",
    "    print(iteration, '....')\n",
    "    x_train, x_test = X.iloc[train_index,:], X.iloc[test_index,:]\n",
    "    y_train, y_test = y[train_index], y[test_index]\n",
    "\n",
    "    # Predictions from text data (apply log on predictions from text to avoid numbers too small)\n",
    "    x_train['pred_text'] = [log_data(e) for e in pd_pred_train_10.iloc[:, ii]]\n",
    "    x_test['pred_text'] = [log_data(e) for e in pd_pred_test_10.iloc[:, ii]]\n",
    "    \n",
    "    # Scale pred_text\n",
    "    scaler = StandardScaler()\n",
    "    scaler.fit(np.asarray(x_train['pred_text']).reshape(-1,1))\n",
    "    x_train['pred_text'] = scaler.transform(np.asarray(x_train['pred_text']).reshape(-1,1))\n",
    "    x_test['pred_text'] = scaler.transform(np.asarray(x_test['pred_text']).reshape(-1,1))\n",
    "    \n",
    "     # Run models\n",
    "    for jj in range(len(models)):\n",
    "        model_time_start = time.time()\n",
    "        model = models[jj]\n",
    "        model.fit(x_train, y_train)\n",
    "         # Collect and log evaluation metrics\n",
    "        auc_roc, auc_pr, acc, precision, recall, specificity, f1, tn, fp, fn, tp = evaluate(model, x_test, y_test)\n",
    "        model_time = time.time() - model_time_start\n",
    "        \n",
    "        \n",
    "        # Save predictions\n",
    "        pred_train = model.predict_proba(x_train)    \n",
    "        pred_train_10.append(pred_train[:,1])\n",
    "        np.save('other/predictions_ML/' + 'pred_train_Text_pct28' + str(model_names[jj]), pred_train)\n",
    "        \n",
    "        pred_test = model.predict_proba(x_test)\n",
    "        pred_test_10.append(pred_test[:,1])\n",
    "        np.save('other/predictions_ML/' + 'pred_test_Text_pct28' + str(model_names[jj]), pred_test)\n",
    "\n",
    "        with open('structured_textpred/structured_textpred.csv','a') as fd:\n",
    "            fd.write(f'{model_names[jj]},{iteration},{auc_roc},{auc_pr},{acc},{precision},{recall},{specificity},{f1},{tn}, {fp}, {fn}, {tp},{model_time}\\n')\n",
    "\n",
    "# Save predicted probabilities for ensemble models\n",
    "pd_pred_train_10 = pd.DataFrame(np.array(pred_train_10).reshape(np.array(pred_train_10).shape[0],np.array(pred_train_10).shape[1]))\n",
    "pd_pred_train_10 = pd_pred_train_10.transpose()\n",
    "\n",
    "pd_pred_test_10 = pd.DataFrame(np.array(pred_test_10).reshape(np.array(pred_test_10).shape[0],np.array(pred_test_10).shape[1]))\n",
    "pd_pred_test_10 = pd_pred_test_10.transpose()\n",
    "\n",
    "pd_pred_train_10.to_csv(\"other2\\pd_pred_train_10_ML_Text_pct28.csv\") # save predictions from machine learning models\n",
    "pd_pred_test_10.to_csv(\"other2\\pd_pred_test_10_ML_Text_pct28.csv\") # save predictions from machine learning models"
   ]
  },
  {
   "cell_type": "markdown",
   "metadata": {},
   "source": [
    "## Undersampling + Predictions from Notes"
   ]
  },
  {
   "cell_type": "code",
   "execution_count": 112,
   "metadata": {},
   "outputs": [
    {
     "name": "stdout",
     "output_type": "stream",
     "text": [
      "iter0 ....\n",
      "iter1 ....\n",
      "iter2 ....\n",
      "iter3 ....\n",
      "iter4 ....\n",
      "iter5 ....\n",
      "iter6 ....\n",
      "iter7 ....\n",
      "iter8 ....\n",
      "iter9 ....\n"
     ]
    }
   ],
   "source": [
    "# Undersampling to pct prevalence\n",
    "pct = 0.5\n",
    "\n",
    "# Load the indices of the 10 undersampled training sets\n",
    "pd_train_idx_pct = pd.read_csv(f'other3/pd_under_idx_10_pct_{pct}.csv')\n",
    "pd_test_idx_10 = pd.read_csv('other/pd_test_idx_10.csv') # Test sets remain the same\n",
    "\n",
    "# Load the predictions \n",
    "pd_train_pred_pct = pd.read_csv(f'other2/pd_pred_train_10_pct_{pct}.csv')\n",
    "pd_test_pred_pct = pd.read_csv(f'other2/pd_pred_test_10_pct_{pct}.csv')\n",
    "\n",
    "\n",
    "pd_train_idx_pct.drop('Unnamed: 0', axis=1, inplace = True)\n",
    "pd_test_idx_10.drop('Unnamed: 0', axis=1, inplace=True)\n",
    "pd_train_pred_pct.drop('Unnamed: 0', axis=1, inplace = True)\n",
    "pd_test_pred_pct.drop('Unnamed: 0', axis=1, inplace = True)\n",
    "\n",
    "pred_train_10 = []\n",
    "pred_test_10 = []\n",
    "\n",
    "with open('structured_textpred/structured_textpred.csv','a') as fd:\n",
    "    fd.write(f'Undersampling with Text Predictions to {pct} prevalence + save predictions for Ensemble Learner\\n')\n",
    "\n",
    "\n",
    "for ii in range(10):\n",
    "    time_s = time.time()\n",
    "    \n",
    "    # Train and test data\n",
    "    train_index = pd_train_idx_pct.iloc[:, ii].values # Undersampled training sets\n",
    "    test_index = pd_test_idx_10.iloc[:, ii].values # Test sets remain the same\n",
    "    \n",
    "    iteration = \"iter\" + str(ii) # to keep track of the iteration number    \n",
    "    print(iteration, '....')\n",
    "    x_train, x_test = X.iloc[train_index,:], X.iloc[test_index,:]\n",
    "    y_train, y_test = y[train_index], y[test_index]\n",
    "    \n",
    "    # Predictions from text data (apply log on predictions from text to avoid numbers too small)\n",
    "    x_train['pred_text'] = [log_data(e) for e in pd_train_pred_pct.iloc[:, ii]]\n",
    "    x_test['pred_text'] = [log_data(e) for e in pd_test_pred_pct.iloc[:, ii]]\n",
    "    \n",
    "    # Scale pred_text\n",
    "    scaler = StandardScaler()\n",
    "    scaler.fit(np.asarray(x_train['pred_text']).reshape(-1,1))\n",
    "    x_train['pred_text'] = scaler.transform(np.asarray(x_train['pred_text']).reshape(-1,1))\n",
    "    x_test['pred_text'] = scaler.transform(np.asarray(x_test['pred_text']).reshape(-1,1))\n",
    "\n",
    "    \n",
    "     # Run models\n",
    "    for jj in range(len(models)):\n",
    "        model_time_start = time.time()\n",
    "        model = models[jj]\n",
    "        model.fit(x_train, y_train)\n",
    "         # Collect and log evaluation metrics\n",
    "        auc_roc, auc_pr, acc, precision, recall, specificity, f1, tn, fp, fn, tp = evaluate(model, x_test, y_test)\n",
    "        model_time = time.time() - model_time_start\n",
    "\n",
    "        with open('structured_textpred/structured_textpred.csv','a') as fd:\n",
    "            fd.write(f'{model_names[jj]},{iteration},{auc_roc},{auc_pr},{acc},{precision},{recall},{specificity},{f1},{tn}, {fp}, {fn}, {tp},{model_time}\\n')\n",
    "\n",
    "        # Save predictions\n",
    "        pred_train = model.predict_proba(x_train)    \n",
    "        pred_train_10.append(pred_train[:,1])\n",
    "        np.save('other/predictions_ML/' + f'pred_train_pct{pct}_Text' + str(model_names[jj]), pred_train)\n",
    "        \n",
    "        pred_test = model.predict_proba(x_test)\n",
    "        pred_test_10.append(pred_test[:,1])\n",
    "        np.save(f'other/predictions_ML/' + f'pred_train_pct{pct}_Text' + str(model_names[jj]), pred_test)\n",
    "        \n",
    "# Save predicfted probabilities for ensemble models\n",
    "pd_pred_train_10 = pd.DataFrame(np.array(pred_train_10).reshape(np.array(pred_train_10).shape[0],np.array(pred_train_10).shape[1]))\n",
    "pd_pred_train_10 = pd_pred_train_10.transpose()\n",
    "\n",
    "pd_pred_test_10 = pd.DataFrame(np.array(pred_test_10).reshape(np.array(pred_test_10).shape[0],np.array(pred_test_10).shape[1]))\n",
    "pd_pred_test_10 = pd_pred_test_10.transpose()\n",
    "\n",
    "pd_pred_train_10.to_csv(f\"other2\\pd_pred_train_10_ML_Text_pct{pct}.csv\") # save predictions from machine learning models\n",
    "pd_pred_test_10.to_csv(f\"other2\\pd_pred_test_10_ML_Text_pct{pct}.csv\") # save predictions from machine learning models"
   ]
  },
  {
   "cell_type": "markdown",
   "metadata": {},
   "source": [
    "### No_undersampling + Predictions from Notes for Ensemble Learner"
   ]
  },
  {
   "cell_type": "code",
   "execution_count": 143,
   "metadata": {},
   "outputs": [
    {
     "name": "stdout",
     "output_type": "stream",
     "text": [
      "iter0 ....\n",
      "iter1 ....\n",
      "iter2 ....\n",
      "iter3 ....\n",
      "iter4 ....\n",
      "iter5 ....\n",
      "iter6 ....\n",
      "iter7 ....\n",
      "iter8 ....\n",
      "iter9 ....\n"
     ]
    }
   ],
   "source": [
    "# Load the indices of the 10 training and test sets\n",
    "pd_train_idx_10 = pd.read_csv('other/pd_train_idx_10.csv')\n",
    "pd_test_idx_10 = pd.read_csv('other/pd_test_idx_10.csv') # Test sets remain the same\n",
    "\n",
    "pd_train_idx_10.drop('Unnamed: 0', axis=1, inplace=True)\n",
    "pd_test_idx_10.drop('Unnamed: 0', axis=1, inplace=True) \n",
    "\n",
    "# Load predictions from Machine Learning Models with text data (No Undersampling)\n",
    "\n",
    "ML_pred_train_10 = pd.read_csv(\"other2\\pd_pred_train_10_ML_Text_pct28.csv\")\n",
    "ML_pred_test_10 = pd.read_csv(\"other2\\pd_pred_test_10_ML_Text_pct28.csv\")\n",
    "\n",
    "ML_pred_train_10.drop('Unnamed: 0', axis=1, inplace = True)\n",
    "ML_pred_test_10.drop('Unnamed: 0', axis=1, inplace = True)\n",
    "\n",
    "with open('structured_textpred/structured_textpred.csv','a') as fd:\n",
    "    fd.write(f'No_undersampling + Text Prediction: Ensemble Learner model performance + remove SVM + multiple_models\\n')\n",
    "\n",
    "for ii in range(10):\n",
    "    \n",
    "    train_index = pd_train_idx_10.iloc[:, ii].values\n",
    "    test_index = pd_test_idx_10.iloc[:, ii].values\n",
    "    \n",
    "    iteration = \"iter\" + str(ii)\n",
    "    print(iteration, '....')\n",
    "    y_train, y_test = y[train_index], y[test_index]\n",
    "    \n",
    "    # Take the predictions from the 5 models\n",
    "    x_train = ML_pred_train_10.iloc[:,ii*5+0:ii*5+4]   \n",
    "    x_test = ML_pred_test_10.iloc[:,ii*5+0:ii*5+4]\n",
    "    \n",
    "     # Run models\n",
    "    for jj in range(len(models)):\n",
    "        model_time_start = time.time()\n",
    "        model = models[jj]\n",
    "        model.fit(x_train, y_train)\n",
    "         # Collect and log evaluation metrics\n",
    "        auc_roc, auc_pr, acc, precision, recall, specificity, f1, tn, fp, fn, tp = evaluate(model, x_test, y_test)\n",
    "        model_time = time.time() - model_time_start\n",
    "\n",
    "        with open('structured_textpred/structured_textpred.csv','a') as fd:\n",
    "            fd.write(f'Ensemble, {model_names[jj]},{iteration},{auc_roc},{auc_pr},{acc},{precision},{recall},{specificity},{f1},{tn}, {fp}, {fn}, {tp},{model_time}\\n')\n"
   ]
  },
  {
   "cell_type": "markdown",
   "metadata": {},
   "source": [
    "### Undersampling + Predictions from Notes for Ensemble Learner"
   ]
  },
  {
   "cell_type": "code",
   "execution_count": 148,
   "metadata": {},
   "outputs": [
    {
     "name": "stdout",
     "output_type": "stream",
     "text": [
      "iter0 ....\n",
      "iter1 ....\n",
      "iter2 ....\n",
      "iter3 ....\n",
      "iter4 ....\n",
      "iter5 ....\n",
      "iter6 ....\n",
      "iter7 ....\n",
      "iter8 ....\n",
      "iter9 ....\n"
     ]
    }
   ],
   "source": [
    "pct = 0.5\n",
    "\n",
    "# Load the indices of the 10 undersampled sets\n",
    "pd_train_idx_pct = pd.read_csv(f'other3/pd_under_idx_10_pct_{pct}.csv')\n",
    "pd_test_idx_10 = pd.read_csv('other/pd_test_idx_10.csv') # Test sets remain the same\n",
    "\n",
    "pd_train_idx_pct.drop('Unnamed: 0', axis=1, inplace=True)\n",
    "pd_test_idx_10.drop('Unnamed: 0', axis=1, inplace=True) \n",
    "\n",
    "# Load the predictions from the 5 models\n",
    "ML_pred_train_10 = pd.read_csv(f\"other2\\pd_pred_train_10_ML_Text_pct{pct}.csv\")\n",
    "ML_pred_test_10 = pd.read_csv(f\"other2\\pd_pred_test_10_ML_Text_pct{pct}.csv\")\n",
    "\n",
    "ML_pred_train_10.drop('Unnamed: 0', axis=1, inplace = True)\n",
    "ML_pred_test_10.drop('Unnamed: 0', axis=1, inplace = True)\n",
    "\n",
    "\n",
    "with open('structured_textpred/structured_textpred.csv','a') as fd:\n",
    "    fd.write(f'Undersample to prevalence {pct} + Text Prediction + Ensemble Learner + remove SVM + multiple models\\n')\n",
    "\n",
    "for ii in range(10):\n",
    "    \n",
    "    train_index = pd_train_idx_pct.iloc[:, ii].values\n",
    "    test_index = pd_test_idx_10.iloc[:, ii].values\n",
    "    \n",
    "    iteration = \"iter\" + str(ii)\n",
    "    print(iteration, '....')\n",
    "    y_train, y_test = y[train_index], y[test_index]\n",
    "    \n",
    "    # Take the predictions from the 5 models\n",
    "    x_train = ML_pred_train_10.iloc[:,ii*5+0:ii*5+4]   \n",
    "    x_test = ML_pred_test_10.iloc[:,ii*5+0:ii*5+4]\n",
    "    \n",
    "     # Run models\n",
    "    for jj in range(len(models)):\n",
    "        model_time_start = time.time()\n",
    "        model = models[jj]\n",
    "        model.fit(x_train, y_train)\n",
    "         # Collect and log evaluation metrics\n",
    "        auc_roc, auc_pr, acc, precision, recall, specificity, f1, tn, fp, fn, tp = evaluate(model, x_test, y_test)\n",
    "        model_time = time.time() - model_time_start\n",
    "\n",
    "        with open('structured_textpred/structured_textpred.csv','a') as fd:\n",
    "            fd.write(f'Ensemble, {model_names[jj]},{iteration},{auc_roc},{auc_pr},{acc},{precision},{recall},{specificity},{f1},{tn}, {fp}, {fn}, {tp},{model_time}\\n')\n"
   ]
  },
  {
   "cell_type": "markdown",
   "metadata": {},
   "source": [
    "### No Under-sampling + No Predictions from Notes + Ensemble Learner:"
   ]
  },
  {
   "cell_type": "code",
   "execution_count": 149,
   "metadata": {},
   "outputs": [
    {
     "name": "stdout",
     "output_type": "stream",
     "text": [
      "iter0 ....\n",
      "iter1 ....\n",
      "iter2 ....\n",
      "iter3 ....\n",
      "iter4 ....\n",
      "iter5 ....\n",
      "iter6 ....\n",
      "iter7 ....\n",
      "iter8 ....\n",
      "iter9 ....\n"
     ]
    }
   ],
   "source": [
    "# Load the indices of the 10 training and test sets\n",
    "pd_train_idx_10 = pd.read_csv('other/pd_train_idx_10.csv')\n",
    "pd_test_idx_10 = pd.read_csv('other/pd_test_idx_10.csv') # Test sets remain the same\n",
    "\n",
    "pd_train_idx_10.drop('Unnamed: 0', axis=1, inplace=True)\n",
    "pd_test_idx_10.drop('Unnamed: 0', axis=1, inplace=True) \n",
    "\n",
    "# Load the predictions from the 5 models\n",
    "ML_pred_train_10 = pd.read_csv(f\"other2\\pd_pred_train_10_ML_noText_pct28.csv\")\n",
    "ML_pred_test_10 = pd.read_csv(f\"other2\\pd_pred_test_10_ML_noText_pct28.csv\")\n",
    "\n",
    "ML_pred_train_10.drop('Unnamed: 0', axis=1, inplace = True)\n",
    "ML_pred_test_10.drop('Unnamed: 0', axis=1, inplace = True)\n",
    "\n",
    "\n",
    "with open('structured_textpred/structured_textpred.csv','a') as fd:\n",
    "    fd.write(f'No Undersampling + No Text Prediction + Ensemble Learner + remove SVM + multiple models\\n')\n",
    "\n",
    "for ii in range(10):\n",
    "    \n",
    "    train_index = pd_train_idx_10.iloc[:, ii].values\n",
    "    test_index = pd_test_idx_10.iloc[:, ii].values\n",
    "    \n",
    "    iteration = \"iter\" + str(ii)\n",
    "    print(iteration, '....')\n",
    "    y_train, y_test = y[train_index], y[test_index]\n",
    "    \n",
    "    # Take the predictions from the 5 models\n",
    "    x_train = ML_pred_train_10.iloc[:,ii*5+0:ii*5+4]   \n",
    "    x_test = ML_pred_test_10.iloc[:,ii*5+0:ii*5+4]\n",
    "    \n",
    "     # Run models\n",
    "    for jj in range(len(models)):\n",
    "        model_time_start = time.time()\n",
    "        model = models[jj]\n",
    "        model.fit(x_train, y_train)\n",
    "         # Collect and log evaluation metrics\n",
    "        auc_roc, auc_pr, acc, precision, recall, specificity, f1, tn, fp, fn, tp = evaluate(model, x_test, y_test)\n",
    "        model_time = time.time() - model_time_start\n",
    "\n",
    "        with open('structured_textpred/structured_textpred.csv','a') as fd:\n",
    "            fd.write(f'Ensemble, {model_names[jj]},{iteration},{auc_roc},{auc_pr},{acc},{precision},{recall},{specificity},{f1},{tn}, {fp}, {fn}, {tp},{model_time}\\n')\n"
   ]
  },
  {
   "cell_type": "markdown",
   "metadata": {},
   "source": [
    "### Under-sampling + No Predictions from Notes + Ensemble Learner:"
   ]
  },
  {
   "cell_type": "code",
   "execution_count": 154,
   "metadata": {},
   "outputs": [
    {
     "name": "stdout",
     "output_type": "stream",
     "text": [
      "iter0 ....\n",
      "iter1 ....\n",
      "iter2 ....\n",
      "iter3 ....\n",
      "iter4 ....\n",
      "iter5 ....\n",
      "iter6 ....\n",
      "iter7 ....\n",
      "iter8 ....\n",
      "iter9 ....\n"
     ]
    }
   ],
   "source": [
    "pct = 0.5\n",
    "\n",
    "# Load the indices of the 10 undersampled sets\n",
    "pd_train_idx_pct = pd.read_csv(f'other3/pd_under_idx_10_pct_{pct}.csv')\n",
    "pd_test_idx_10 = pd.read_csv('other/pd_test_idx_10.csv') # Test sets remain the same\n",
    "\n",
    "pd_train_idx_pct.drop('Unnamed: 0', axis=1, inplace=True)\n",
    "pd_test_idx_10.drop('Unnamed: 0', axis=1, inplace=True) \n",
    "\n",
    "# Load the predictions from the 5 models\n",
    "ML_pred_train_10 = pd.read_csv(f\"other2\\pd_pred_train_10_ML_noText_pct{pct}.csv\")\n",
    "ML_pred_test_10 = pd.read_csv(f\"other2\\pd_pred_test_10_ML_noText_pct{pct}.csv\")\n",
    "\n",
    "ML_pred_train_10.drop('Unnamed: 0', axis=1, inplace = True)\n",
    "ML_pred_test_10.drop('Unnamed: 0', axis=1, inplace = True)\n",
    "\n",
    "\n",
    "with open('structured_textpred/structured_textpred.csv','a') as fd:\n",
    "    fd.write(f'Undersample to prevalence {pct} + No Text Prediction: Ensemble Learner + remove SVM + multiple models\\n')\n",
    "\n",
    "for ii in range(10):\n",
    "    \n",
    "    train_index = pd_train_idx_pct.iloc[:, ii].values\n",
    "    test_index = pd_test_idx_10.iloc[:, ii].values\n",
    "    \n",
    "    iteration = \"iter\" + str(ii)\n",
    "    print(iteration, '....')\n",
    "    y_train, y_test = y[train_index], y[test_index]\n",
    "    \n",
    "    # Take the predictions from the 5 models\n",
    "    x_train = ML_pred_train_10.iloc[:,ii*5+0:ii*5+4]   \n",
    "    x_test = ML_pred_test_10.iloc[:,ii*5+0:ii*5+4]\n",
    "    \n",
    "     # Run models\n",
    "    for jj in range(len(models)):\n",
    "        model_time_start = time.time()\n",
    "        model = models[jj]\n",
    "        model.fit(x_train, y_train)\n",
    "         # Collect and log evaluation metrics\n",
    "        auc_roc, auc_pr, acc, precision, recall, specificity, f1, tn, fp, fn, tp = evaluate(model, x_test, y_test)\n",
    "        model_time = time.time() - model_time_start\n",
    "\n",
    "        with open('structured_textpred/structured_textpred.csv','a') as fd:\n",
    "            fd.write(f'Ensemble, {model_names[jj]},{iteration},{auc_roc},{auc_pr},{acc},{precision},{recall},{specificity},{f1},{tn}, {fp}, {fn}, {tp},{model_time}\\n')\n"
   ]
  },
  {
   "cell_type": "markdown",
   "metadata": {},
   "source": [
    "### Ensemble Logistic with two-way Interactions (Structured Only + No Under-sampling)"
   ]
  },
  {
   "cell_type": "code",
   "execution_count": 155,
   "metadata": {},
   "outputs": [],
   "source": [
    "from sklearn.preprocessing import PolynomialFeatures\n",
    "import scipy.special\n"
   ]
  },
  {
   "cell_type": "code",
   "execution_count": 170,
   "metadata": {},
   "outputs": [
    {
     "name": "stdout",
     "output_type": "stream",
     "text": [
      "iter0 ....\n",
      "iter1 ....\n",
      "iter2 ....\n",
      "iter3 ....\n",
      "iter4 ....\n",
      "iter5 ....\n",
      "iter6 ....\n",
      "iter7 ....\n",
      "iter8 ....\n",
      "iter9 ....\n"
     ]
    }
   ],
   "source": [
    "# Load the indices of the 10 training and test sets\n",
    "pd_train_idx_10 = pd.read_csv('other/pd_train_idx_10.csv')\n",
    "pd_test_idx_10 = pd.read_csv('other/pd_test_idx_10.csv') # Test sets remain the same\n",
    "\n",
    "pd_train_idx_10.drop('Unnamed: 0', axis=1, inplace=True)\n",
    "pd_test_idx_10.drop('Unnamed: 0', axis=1, inplace=True) \n",
    "\n",
    "# Load the predictions from the 5 models\n",
    "ML_pred_train_10 = pd.read_csv(f\"other2\\pd_pred_train_10_ML_noText_pct28.csv\")\n",
    "ML_pred_test_10 = pd.read_csv(f\"other2\\pd_pred_test_10_ML_noText_pct28.csv\")\n",
    "\n",
    "ML_pred_train_10.drop('Unnamed: 0', axis=1, inplace = True)\n",
    "ML_pred_test_10.drop('Unnamed: 0', axis=1, inplace = True)\n",
    "\n",
    "\n",
    "with open('structured_textpred/structured_textpred.csv','a') as fd:\n",
    "    fd.write(f'No Undersampling + No Text Prediction + Ensemble Learner + remove SVM + 2-way Interactions+LASSO\\n')\n",
    "\n",
    "for ii in range(10):\n",
    "    \n",
    "    train_index = pd_train_idx_10.iloc[:, ii].values\n",
    "    test_index = pd_test_idx_10.iloc[:, ii].values\n",
    "    \n",
    "    iteration = \"iter\" + str(ii)\n",
    "    print(iteration, '....')\n",
    "    y_train, y_test = y[train_index], y[test_index]\n",
    "    \n",
    "    # Take the predictions from the 5 models\n",
    "    x_train = ML_pred_train_10.iloc[:,ii*5+0:ii*5+4]   \n",
    "    x_test = ML_pred_test_10.iloc[:,ii*5+0:ii*5+4]\n",
    "    \n",
    "    \n",
    "    # Scale predicted probabilites from Machine Learning models\n",
    "    scaler = StandardScaler()\n",
    "    scaler.fit(x_train)\n",
    "    x_train = scaler.transform(x_train)\n",
    "    x_test = scaler.transform(x_test)\n",
    "    \n",
    "    # Two-way interaction\n",
    "    poly = PolynomialFeatures(interaction_only=True) # Only include interactions, no squares\n",
    "    x_train = poly.fit_transform(x_train)\n",
    "    x_test = poly.transform(x_test)\n",
    "    \n",
    "    \n",
    "     # Run models\n",
    "\n",
    "    model_time_start = time.time()\n",
    "#     model = LogisticRegression()\n",
    "    model = LogisticRegression(penalty = 'l1', solver = 'liblinear', C=5, l1_ratio =0)\n",
    "    model.fit(x_train, y_train)\n",
    "     # Collect and log evaluation metrics\n",
    "    auc_roc, auc_pr, acc, precision, recall, specificity, f1, tn, fp, fn, tp = evaluate(model, x_test, y_test)\n",
    "    model_time = time.time() - model_time_start\n",
    "\n",
    "    with open('structured_textpred/structured_textpred.csv','a') as fd:\n",
    "        fd.write(f'Ensemble, {model_names[jj]},{iteration},{auc_roc},{auc_pr},{acc},{precision},{recall},{specificity},{f1},{tn}, {fp}, {fn}, {tp},{model_time}\\n')\n"
   ]
  },
  {
   "cell_type": "markdown",
   "metadata": {},
   "source": [
    "### Ensemble Learner with 2-way Interaction (Stuctured Only + Under-sampling)"
   ]
  },
  {
   "cell_type": "code",
   "execution_count": 175,
   "metadata": {},
   "outputs": [
    {
     "name": "stdout",
     "output_type": "stream",
     "text": [
      "iter0 ....\n",
      "iter1 ....\n",
      "iter2 ....\n",
      "iter3 ....\n",
      "iter4 ....\n",
      "iter5 ....\n",
      "iter6 ....\n",
      "iter7 ....\n",
      "iter8 ....\n",
      "iter9 ....\n"
     ]
    }
   ],
   "source": [
    "pct = 0.5\n",
    "\n",
    "# Load the indices of the 10 undersampled sets\n",
    "pd_train_idx_pct = pd.read_csv(f'other3/pd_under_idx_10_pct_{pct}.csv')\n",
    "pd_test_idx_10 = pd.read_csv('other/pd_test_idx_10.csv') # Test sets remain the same\n",
    "\n",
    "pd_train_idx_pct.drop('Unnamed: 0', axis=1, inplace=True)\n",
    "pd_test_idx_10.drop('Unnamed: 0', axis=1, inplace=True) \n",
    "\n",
    "# Load the predictions from the 5 models\n",
    "ML_pred_train_10 = pd.read_csv(f\"other2\\pd_pred_train_10_ML_noText_pct{pct}.csv\")\n",
    "ML_pred_test_10 = pd.read_csv(f\"other2\\pd_pred_test_10_ML_noText_pct{pct}.csv\")\n",
    "\n",
    "ML_pred_train_10.drop('Unnamed: 0', axis=1, inplace = True)\n",
    "ML_pred_test_10.drop('Unnamed: 0', axis=1, inplace = True)\n",
    "\n",
    "\n",
    "with open('structured_textpred/structured_textpred.csv','a') as fd:\n",
    "    fd.write(f'Undersample to {pct} + No Text Prediction + Ensemble Learner + remove SVM + Interactions + LASSO\\n')\n",
    "\n",
    "for ii in range(10):\n",
    "    \n",
    "    train_index = pd_train_idx_pct.iloc[:, ii].values\n",
    "    test_index = pd_test_idx_10.iloc[:, ii].values\n",
    "    \n",
    "    iteration = \"iter\" + str(ii)\n",
    "    print(iteration, '....')\n",
    "    y_train, y_test = y[train_index], y[test_index]\n",
    "    \n",
    "    # Take the predictions from the 5 models\n",
    "    x_train = ML_pred_train_10.iloc[:,ii*5+0:ii*5+4]   \n",
    "    x_test = ML_pred_test_10.iloc[:,ii*5+0:ii*5+4]\n",
    "       \n",
    "    # Scale predicted probabilites from Machine Learning models\n",
    "    scaler = StandardScaler()\n",
    "    scaler.fit(x_train)\n",
    "    x_train = scaler.transform(x_train)\n",
    "    x_test = scaler.transform(x_test)\n",
    "    \n",
    "    # Two-way interaction\n",
    "    poly = PolynomialFeatures(interaction_only=True) # Only include interactions, no squares\n",
    "    x_train = poly.fit_transform(x_train)\n",
    "    x_test = poly.transform(x_test)\n",
    "        \n",
    "     # Run models\n",
    "    model_time_start = time.time()\n",
    "#     model = LogisticRegression()\n",
    "    model = LogisticRegression(penalty = 'l1', solver = 'liblinear', C=5, l1_ratio =0)\n",
    "    model.fit(x_train, y_train)\n",
    "     # Collect and log evaluation metrics\n",
    "    auc_roc, auc_pr, acc, precision, recall, specificity, f1, tn, fp, fn, tp = evaluate(model, x_test, y_test)\n",
    "    model_time = time.time() - model_time_start\n",
    "\n",
    "    with open('structured_textpred/structured_textpred.csv','a') as fd:\n",
    "        fd.write(f'Ensemble, {model_names[jj]},{iteration},{auc_roc},{auc_pr},{acc},{precision},{recall},{specificity},{f1},{tn}, {fp}, {fn}, {tp},{model_time}\\n')\n"
   ]
  },
  {
   "cell_type": "markdown",
   "metadata": {},
   "source": [
    "### Ensemble Learner with 2-way Interactions (Structured+Pred + No-undersampling)"
   ]
  },
  {
   "cell_type": "code",
   "execution_count": 176,
   "metadata": {},
   "outputs": [
    {
     "name": "stdout",
     "output_type": "stream",
     "text": [
      "iter0 ....\n",
      "iter1 ....\n",
      "iter2 ....\n",
      "iter3 ....\n",
      "iter4 ....\n",
      "iter5 ....\n",
      "iter6 ....\n",
      "iter7 ....\n",
      "iter8 ....\n",
      "iter9 ....\n"
     ]
    }
   ],
   "source": [
    "# Load the indices of the 10 training and test sets\n",
    "pd_train_idx_10 = pd.read_csv('other/pd_train_idx_10.csv')\n",
    "pd_test_idx_10 = pd.read_csv('other/pd_test_idx_10.csv') # Test sets remain the same\n",
    "\n",
    "pd_train_idx_10.drop('Unnamed: 0', axis=1, inplace=True)\n",
    "pd_test_idx_10.drop('Unnamed: 0', axis=1, inplace=True) \n",
    "\n",
    "# Load predictions from Machine Learning Models with text data (No Undersampling)\n",
    "\n",
    "ML_pred_train_10 = pd.read_csv(\"other2\\pd_pred_train_10_ML_Text_pct28.csv\")\n",
    "ML_pred_test_10 = pd.read_csv(\"other2\\pd_pred_test_10_ML_Text_pct28.csv\")\n",
    "\n",
    "ML_pred_train_10.drop('Unnamed: 0', axis=1, inplace = True)\n",
    "ML_pred_test_10.drop('Unnamed: 0', axis=1, inplace = True)\n",
    "\n",
    "with open('structured_textpred/structured_textpred.csv','a') as fd:\n",
    "    fd.write(f'No_undersampling + Text Prediction: Ensemble Learner + remove SVM + Interactions + LASSO\\n')\n",
    "\n",
    "for ii in range(10):\n",
    "    \n",
    "    train_index = pd_train_idx_10.iloc[:, ii].values\n",
    "    test_index = pd_test_idx_10.iloc[:, ii].values\n",
    "    \n",
    "    iteration = \"iter\" + str(ii)\n",
    "    print(iteration, '....')\n",
    "    y_train, y_test = y[train_index], y[test_index]\n",
    "    \n",
    "    # Take the predictions from the 5 models\n",
    "    x_train = ML_pred_train_10.iloc[:,ii*5+0:ii*5+4]   \n",
    "    x_test = ML_pred_test_10.iloc[:,ii*5+0:ii*5+4]\n",
    "    \n",
    "    \n",
    "    # Scale predicted probabilites from Machine Learning models\n",
    "    scaler = StandardScaler()\n",
    "    scaler.fit(x_train)\n",
    "    x_train = scaler.transform(x_train)\n",
    "    x_test = scaler.transform(x_test)\n",
    "    \n",
    "    # Two-way interaction\n",
    "    poly = PolynomialFeatures(interaction_only=True) # Only include interactions, no squares\n",
    "    x_train = poly.fit_transform(x_train)\n",
    "    x_test = poly.transform(x_test)\n",
    "        \n",
    "     # Run models\n",
    "    model_time_start = time.time()\n",
    "#     model = LogisticRegression()\n",
    "    model = LogisticRegression(penalty = 'l1', solver = 'liblinear', C=5, l1_ratio =0)\n",
    "    model.fit(x_train, y_train)\n",
    "    \n",
    "     # Collect and log evaluation metrics\n",
    "    auc_roc, auc_pr, acc, precision, recall, specificity, f1, tn, fp, fn, tp = evaluate(model, x_test, y_test)\n",
    "    model_time = time.time() - model_time_start\n",
    "\n",
    "    with open('structured_textpred/structured_textpred.csv','a') as fd:\n",
    "        fd.write(f'Ensemble, {model_names[jj]},{iteration},{auc_roc},{auc_pr},{acc},{precision},{recall},{specificity},{f1},{tn}, {fp}, {fn}, {tp},{model_time}\\n')\n"
   ]
  },
  {
   "cell_type": "markdown",
   "metadata": {},
   "source": [
    "### Ensemble Learner with 2-way Interactions (Structured + Pred + Under-sampling)"
   ]
  },
  {
   "cell_type": "code",
   "execution_count": 181,
   "metadata": {},
   "outputs": [
    {
     "name": "stdout",
     "output_type": "stream",
     "text": [
      "iter0 ....\n",
      "iter1 ....\n",
      "iter2 ....\n",
      "iter3 ....\n",
      "iter4 ....\n",
      "iter5 ....\n",
      "iter6 ....\n",
      "iter7 ....\n",
      "iter8 ....\n",
      "iter9 ....\n"
     ]
    }
   ],
   "source": [
    "pct = 0.5\n",
    "\n",
    "# Load the indices of the 10 undersampled sets\n",
    "pd_train_idx_pct = pd.read_csv(f'other3/pd_under_idx_10_pct_{pct}.csv')\n",
    "pd_test_idx_10 = pd.read_csv('other/pd_test_idx_10.csv') # Test sets remain the same\n",
    "\n",
    "pd_train_idx_pct.drop('Unnamed: 0', axis=1, inplace=True)\n",
    "pd_test_idx_10.drop('Unnamed: 0', axis=1, inplace=True) \n",
    "\n",
    "# Load the predictions from the 5 models\n",
    "ML_pred_train_10 = pd.read_csv(f\"other2\\pd_pred_train_10_ML_Text_pct{pct}.csv\")\n",
    "ML_pred_test_10 = pd.read_csv(f\"other2\\pd_pred_test_10_ML_Text_pct{pct}.csv\")\n",
    "\n",
    "ML_pred_train_10.drop('Unnamed: 0', axis=1, inplace = True)\n",
    "ML_pred_test_10.drop('Unnamed: 0', axis=1, inplace = True)\n",
    "\n",
    "\n",
    "with open('structured_textpred/structured_textpred.csv','a') as fd:\n",
    "    fd.write(f'Undersample {pct} + Text Prediction + Ensemble Learner + remove SVM + interactions + LASSO\\n')\n",
    "\n",
    "for ii in range(10):\n",
    "    \n",
    "    train_index = pd_train_idx_pct.iloc[:, ii].values\n",
    "    test_index = pd_test_idx_10.iloc[:, ii].values\n",
    "    \n",
    "    iteration = \"iter\" + str(ii)\n",
    "    print(iteration, '....')\n",
    "    y_train, y_test = y[train_index], y[test_index]\n",
    "    \n",
    "    # Take the predictions from the 5 models\n",
    "    x_train = ML_pred_train_10.iloc[:,ii*5+0:ii*5+4]   \n",
    "    x_test = ML_pred_test_10.iloc[:,ii*5+0:ii*5+4]\n",
    "    \n",
    "    # Scale predicted probabilites from Machine Learning models\n",
    "    scaler = StandardScaler()\n",
    "    scaler.fit(x_train)\n",
    "    x_train = scaler.transform(x_train)\n",
    "    x_test = scaler.transform(x_test)\n",
    "    \n",
    "    # Two-way interaction\n",
    "    poly = PolynomialFeatures(interaction_only=True) # Only include interactions, no squares\n",
    "    x_train = poly.fit_transform(x_train)\n",
    "    x_test = poly.transform(x_test)\n",
    "        \n",
    "     # Run models\n",
    "    model_time_start = time.time()\n",
    "#     model = LogisticRegression()\n",
    "    model = LogisticRegression(penalty = 'l1', solver = 'liblinear', C=5, l1_ratio =0)\n",
    "    model.fit(x_train, y_train)\n",
    "    \n",
    "     # Collect and log evaluation metrics\n",
    "    auc_roc, auc_pr, acc, precision, recall, specificity, f1, tn, fp, fn, tp = evaluate(model, x_test, y_test)\n",
    "    model_time = time.time() - model_time_start\n",
    "\n",
    "    with open('structured_textpred/structured_textpred.csv','a') as fd:\n",
    "        fd.write(f'Ensemble, {model_names[jj]},{iteration},{auc_roc},{auc_pr},{acc},{precision},{recall},{specificity},{f1},{tn}, {fp}, {fn}, {tp},{model_time}\\n')\n"
   ]
  },
  {
   "cell_type": "markdown",
   "metadata": {},
   "source": [
    "### Logistic Regression"
   ]
  },
  {
   "cell_type": "code",
   "execution_count": 77,
   "metadata": {},
   "outputs": [
    {
     "data": {
      "text/plain": [
       "GridSearchCV(cv=5, estimator=LogisticRegression(),\n",
       "             param_grid={'C': [0.1, 1, 5, 10],\n",
       "                         'l1_ratio': [0, 0.3, 0.5, 0.7, 1],\n",
       "                         'penalty': ['l1', 'l2'],\n",
       "                         'solver': ['liblinear', 'sag', 'saga']})"
      ]
     },
     "execution_count": 77,
     "metadata": {},
     "output_type": "execute_result"
    }
   ],
   "source": [
    "lg = GridSearchCV(cv=5,\n",
    "             estimator = LogisticRegression(),\n",
    "             param_grid={\"penalty\": [\"l1\", 'l2'], \n",
    "                         \"solver\": ['liblinear', 'sag', 'saga'],\n",
    "                         \"C\": [0.1, 1, 5, 10],\n",
    "                         \"l1_ratio\": [0, 0.3, 0.5, 0.7, 1]\n",
    "                        })\n",
    "lg.fit(x_train, y_train)"
   ]
  },
  {
   "cell_type": "code",
   "execution_count": 78,
   "metadata": {},
   "outputs": [
    {
     "name": "stdout",
     "output_type": "stream",
     "text": [
      "Best Parameters:\n",
      " {'C': 5, 'l1_ratio': 0, 'penalty': 'l1', 'solver': 'liblinear'}\n"
     ]
    }
   ],
   "source": [
    "print('Best Parameters:\\n', lg.best_params_)"
   ]
  },
  {
   "cell_type": "markdown",
   "metadata": {},
   "source": [
    "### Lasso "
   ]
  },
  {
   "cell_type": "code",
   "execution_count": 58,
   "metadata": {},
   "outputs": [],
   "source": [
    "LogisticRegression?"
   ]
  },
  {
   "cell_type": "code",
   "execution_count": 45,
   "metadata": {},
   "outputs": [],
   "source": [
    "from sklearn.linear_model import Lasso"
   ]
  },
  {
   "cell_type": "code",
   "execution_count": 55,
   "metadata": {},
   "outputs": [
    {
     "data": {
      "text/plain": [
       "GridSearchCV(cv=5, estimator=Lasso(),\n",
       "             param_grid={'alpha': [0.5, 1, 5, 10],\n",
       "                         'fit_intercept': [True, False]})"
      ]
     },
     "execution_count": 55,
     "metadata": {},
     "output_type": "execute_result"
    }
   ],
   "source": [
    "lg_lasso = GridSearchCV(cv=5,\n",
    "             estimator = Lasso(),\n",
    "             param_grid={\"alpha\": [0.5, 1, 5, 10], \"fit_intercept\": [True, False]})\n",
    "lg_lasso.fit(x_train, y_train)"
   ]
  },
  {
   "cell_type": "code",
   "execution_count": 56,
   "metadata": {},
   "outputs": [
    {
     "data": {
      "text/plain": [
       "(0.5622, 0.0316, 0.9733827493261455, nan, 0.0, 1.0, nan)"
      ]
     },
     "execution_count": 56,
     "metadata": {},
     "output_type": "execute_result"
    }
   ],
   "source": [
    "evaluate(lg_lasso, x_test, y_test)"
   ]
  },
  {
   "cell_type": "code",
   "execution_count": 57,
   "metadata": {},
   "outputs": [
    {
     "name": "stdout",
     "output_type": "stream",
     "text": [
      "Best Parameters:\n",
      " {'alpha': 10, 'fit_intercept': True}\n"
     ]
    }
   ],
   "source": [
    "print('Best Parameters:\\n', lg_lasso.best_params_)"
   ]
  },
  {
   "cell_type": "markdown",
   "metadata": {},
   "source": [
    "### Random Forest"
   ]
  },
  {
   "cell_type": "code",
   "execution_count": 24,
   "metadata": {},
   "outputs": [],
   "source": [
    "from sklearn.model_selection import GridSearchCV"
   ]
  },
  {
   "cell_type": "code",
   "execution_count": 99,
   "metadata": {},
   "outputs": [
    {
     "name": "stdout",
     "output_type": "stream",
     "text": [
      "Best Parameters:\n",
      " {'criterion': 'entropy', 'max_depth': 10, 'max_features': 'auto'}\n"
     ]
    }
   ],
   "source": [
    "# Use Gridsearch to find the best parameters for the Random Forest model:\n",
    "from sklearn.ensemble import RandomForestClassifier\n",
    "\n",
    "rf = GridSearchCV(cv=5,\n",
    "             estimator = RandomForestClassifier(min_samples_split = 5),\n",
    "             param_grid={\"criterion\": [\"entropy\", 'gini'], \"max_depth\": [5, 10, 20], 'max_features': ['auto', 'sqrt']})\n",
    "rf.fit(x_train, y_train)\n",
    "\n",
    "print('Best Parameters:\\n', rf.best_params_)"
   ]
  },
  {
   "cell_type": "code",
   "execution_count": null,
   "metadata": {},
   "outputs": [],
   "source": [
    "# 'bootstrap': [True, False],\n",
    "#  'max_depth': [10, 20, 30, 40, 50, 60, 70, 80, 90, 100, None],\n",
    "#  'max_features': ['auto', 'sqrt'],\n",
    "#  'min_samples_leaf': [1, 2, 4],\n",
    "#  'min_samples_split': [2, 5, 10],\n",
    "#  'n_estimators': [200, 400, 600, 800, 1000, 1200, 1400, 1600, 1800, 2000]"
   ]
  },
  {
   "cell_type": "code",
   "execution_count": 300,
   "metadata": {},
   "outputs": [],
   "source": [
    "pred = rf.predict(x_test)"
   ]
  },
  {
   "cell_type": "code",
   "execution_count": 32,
   "metadata": {},
   "outputs": [
    {
     "data": {
      "text/plain": [
       "array([[2883,    6],\n",
       "       [  56,   23]], dtype=int64)"
      ]
     },
     "execution_count": 32,
     "metadata": {},
     "output_type": "execute_result"
    }
   ],
   "source": [
    "confusion_matrix(y_test, pred)"
   ]
  },
  {
   "cell_type": "code",
   "execution_count": 92,
   "metadata": {},
   "outputs": [
    {
     "data": {
      "text/plain": [
       "(0.4993,\n",
       " 0.0014,\n",
       " 0.9957564505740159,\n",
       " 0.0,\n",
       " 0.0,\n",
       " 0.99859411809408,\n",
       " nan,\n",
       " 26281,\n",
       " 37,\n",
       " 75,\n",
       " 0)"
      ]
     },
     "execution_count": 92,
     "metadata": {},
     "output_type": "execute_result"
    }
   ],
   "source": [
    "evaluate(rf, x_test, y_test)"
   ]
  },
  {
   "cell_type": "markdown",
   "metadata": {},
   "source": [
    "### KNN Model"
   ]
  },
  {
   "cell_type": "code",
   "execution_count": 103,
   "metadata": {},
   "outputs": [
    {
     "name": "stdout",
     "output_type": "stream",
     "text": [
      "Best Parameters:\n",
      " {'n_neighbors': 5, 'weights': 'distance'}\n"
     ]
    }
   ],
   "source": [
    "# Use Gridsearch to find the best parameters for the KNN model:\n",
    "from sklearn.neighbors import KNeighborsClassifier \n",
    "\n",
    "knn = GridSearchCV(cv=5,\n",
    "             estimator = KNeighborsClassifier(),\n",
    "             param_grid={\"weights\": [\"distance\", 'uniform'], \"n_neighbors\": [5, 7, 9]})\n",
    "knn.fit(x_train, y_train)\n",
    "print('Best Parameters:\\n', knn.best_params_)"
   ]
  },
  {
   "cell_type": "code",
   "execution_count": 104,
   "metadata": {},
   "outputs": [
    {
     "data": {
      "text/plain": [
       "(0.4994,\n",
       " 0.0014,\n",
       " 0.9960595612473004,\n",
       " 0.0,\n",
       " 0.0,\n",
       " 0.998898092560225,\n",
       " nan,\n",
       " 26289,\n",
       " 29,\n",
       " 75,\n",
       " 0)"
      ]
     },
     "execution_count": 104,
     "metadata": {},
     "output_type": "execute_result"
    }
   ],
   "source": [
    "evaluate(knn, x_test, y_test)"
   ]
  },
  {
   "cell_type": "markdown",
   "metadata": {},
   "source": [
    "### SVM Model"
   ]
  },
  {
   "cell_type": "code",
   "execution_count": 15,
   "metadata": {},
   "outputs": [],
   "source": [
    "from sklearn.decomposition import KernelPCA\n",
    "from sklearn.svm import SVC"
   ]
  },
  {
   "cell_type": "code",
   "execution_count": 106,
   "metadata": {},
   "outputs": [
    {
     "name": "stdout",
     "output_type": "stream",
     "text": [
      "Best Parameters:\n",
      " {'C': 0.1, 'gamma': 0.001}\n"
     ]
    }
   ],
   "source": [
    "# Use KernelPCA to change the data representation (project the original data to higher dimension)\n",
    "svm = GridSearchCV(cv=5,\n",
    "             estimator = SVC(kernel=\"rbf\"),\n",
    "             param_grid={\"C\": [0.025, 0.05, 0.1, 1, 10, 100, 1000], \"gamma\": [1, 0.1, 0.01, 0.001, 0.0001]})\n",
    "\n",
    "svm.fit(x_train, y_train)\n",
    "print('Best Parameters:\\n', svm.best_params_)"
   ]
  },
  {
   "cell_type": "markdown",
   "metadata": {},
   "source": [
    "### XGBoost"
   ]
  },
  {
   "cell_type": "code",
   "execution_count": 98,
   "metadata": {},
   "outputs": [
    {
     "name": "stdout",
     "output_type": "stream",
     "text": [
      "Best Parameters:\n",
      " {'booster': 'gblinear', 'max_depth': 4, 'n_estimators': 200}\n"
     ]
    }
   ],
   "source": [
    "xgb = GridSearchCV(cv=5,\n",
    "             estimator = XGBClassifier(verbosity = 0),\n",
    "             param_grid={\"booster\": [\"gbtree\", 'gblinear','dart'], \"n_estimators\": [200, 300, 500], 'max_depth': [4,6,8]})\n",
    "\n",
    "xgb.fit(x_train, y_train)\n",
    "print('Best Parameters:\\n', xgb.best_params_)"
   ]
  },
  {
   "cell_type": "code",
   "execution_count": 216,
   "metadata": {},
   "outputs": [
    {
     "name": "stdout",
     "output_type": "stream",
     "text": [
      "Accuracy: 0.9828\n",
      "Best Parameters:\n",
      " {'booster': 'gblinear', 'max_depth': 4, 'n_estimators': 100}\n"
     ]
    }
   ],
   "source": [
    "print('Accuracy:', round(xgb.score(x_test,y_test),4))\n",
    "print('Best Parameters:\\n', xgb.best_params_)"
   ]
  },
  {
   "cell_type": "code",
   "execution_count": 305,
   "metadata": {},
   "outputs": [
    {
     "data": {
      "text/plain": [
       "(0.7682,\n",
       " 0.604,\n",
       " 0.980121293800539,\n",
       " 0.6515151515151515,\n",
       " 0.5443037974683544,\n",
       " 0.9920387677397023,\n",
       " 0.5931034482758619)"
      ]
     },
     "execution_count": 305,
     "metadata": {},
     "output_type": "execute_result"
    }
   ],
   "source": [
    "evaluate(xgb, x_test, y_test)"
   ]
  },
  {
   "cell_type": "code",
   "execution_count": 270,
   "metadata": {},
   "outputs": [],
   "source": [
    "xgb1 = XGBClassifier(booster = 'gblinear', n_estimators = 100)"
   ]
  },
  {
   "cell_type": "code",
   "execution_count": 271,
   "metadata": {},
   "outputs": [
    {
     "data": {
      "text/plain": [
       "XGBClassifier(base_score=0.5, booster='gblinear', colsample_bylevel=None,\n",
       "              colsample_bynode=None, colsample_bytree=None,\n",
       "              enable_categorical=False, gamma=None, gpu_id=-1,\n",
       "              importance_type=None, interaction_constraints=None,\n",
       "              learning_rate=0.5, max_delta_step=None, max_depth=None,\n",
       "              min_child_weight=None, missing=nan, monotone_constraints=None,\n",
       "              n_estimators=100, n_jobs=4, num_parallel_tree=None,\n",
       "              predictor=None, random_state=0, reg_alpha=0, reg_lambda=0,\n",
       "              scale_pos_weight=1, subsample=None, tree_method=None,\n",
       "              validate_parameters=1, verbosity=None)"
      ]
     },
     "execution_count": 271,
     "metadata": {},
     "output_type": "execute_result"
    }
   ],
   "source": [
    "xgb1.fit(x_train, y_train)"
   ]
  },
  {
   "cell_type": "code",
   "execution_count": 272,
   "metadata": {},
   "outputs": [
    {
     "data": {
      "text/plain": [
       "(0.6103,\n",
       " 0.355,\n",
       " 0.9723719676549866,\n",
       " 0.46153846153846156,\n",
       " 0.22784810126582278,\n",
       " 0.9927310488058152,\n",
       " 0.3050847457627119)"
      ]
     },
     "execution_count": 272,
     "metadata": {},
     "output_type": "execute_result"
    }
   ],
   "source": [
    "# probabilites from text classification with over- and under- sampling\n",
    "evaluate(xgb1, x_test, y_test)"
   ]
  },
  {
   "cell_type": "code",
   "execution_count": 34,
   "metadata": {},
   "outputs": [
    {
     "data": {
      "text/plain": [
       "array([[2882,    7],\n",
       "       [  31,   48]], dtype=int64)"
      ]
     },
     "execution_count": 34,
     "metadata": {},
     "output_type": "execute_result"
    }
   ],
   "source": [
    "pred = xgb.predict(x_test)\n",
    "confusion_matrix(y_test, pred)"
   ]
  },
  {
   "cell_type": "code",
   "execution_count": 71,
   "metadata": {},
   "outputs": [],
   "source": [
    "from matplotlib import pyplot as plt"
   ]
  },
  {
   "cell_type": "code",
   "execution_count": 82,
   "metadata": {},
   "outputs": [
    {
     "data": {
      "text/plain": [
       "array([ 6.9870239e-08, -1.6471268e+00,  7.1076632e-02, -9.8611370e-02,\n",
       "       -1.1895554e-01, -1.0279215e-01, -9.6887641e-02, -4.6253982e-01,\n",
       "        1.3155596e-02,  8.6222373e-02, -7.4758483e-03, -9.8040737e-02,\n",
       "        8.4496766e-02, -2.2484398e-01,  3.3371112e-01, -2.6425568e-02,\n",
       "       -4.1604817e-01, -3.4293583e-01, -4.6148407e-01,  1.9643235e-03,\n",
       "        1.0709361e-01,  1.3362673e-01,  3.2788206e-02,  1.6523656e-01,\n",
       "        1.4395665e-01,  2.3232357e-01,  9.9862449e-02,  3.7412385e-03,\n",
       "       -4.6925820e-02,  7.5979762e-02,  2.3118609e-01, -5.6969807e-02,\n",
       "        1.0546323e-02, -8.5148225e-03, -1.2917040e-01,  3.8875345e-02,\n",
       "        7.2632488e-03,  2.1422903e-01,  1.2915637e-01,  3.3907312e-01,\n",
       "        2.0678045e-01,  2.6260731e-01,  2.1592718e-01,  1.7424393e-01,\n",
       "       -4.7747444e-02,  8.2987636e-01,  4.8537832e-02,  3.0805720e-03,\n",
       "       -1.9678801e-02, -4.1745353e-01,  1.3118086e-02,  4.3843467e-02,\n",
       "        3.9935850e-02, -1.5605908e-04, -1.7692487e-01,  2.5122157e-01,\n",
       "        3.8004008e-01,  2.0714992e-01,  1.7572454e-01,  1.9916710e-01,\n",
       "       -4.4510100e-02,  2.6842037e-02,  1.3489167e-01,  8.8989614e-03,\n",
       "        2.4811380e-01, -2.3983957e-01,  3.2627687e-02,  5.4755252e-02,\n",
       "       -7.0983849e-02,  2.6840809e-01, -8.2754262e-02, -1.5014588e-02,\n",
       "        8.7914035e-02, -8.4593305e-03], dtype=float32)"
      ]
     },
     "execution_count": 82,
     "metadata": {},
     "output_type": "execute_result"
    }
   ],
   "source": [
    "xgb1.feature_importances_"
   ]
  },
  {
   "cell_type": "code",
   "execution_count": 150,
   "metadata": {},
   "outputs": [
    {
     "data": {
      "text/plain": [
       "<AxesSubplot:title={'center':'Feature importance'}, xlabel='F score', ylabel='Features'>"
      ]
     },
     "execution_count": 150,
     "metadata": {},
     "output_type": "execute_result"
    },
    {
     "data": {
      "image/png": "[encoded data removed]",
      "text/plain": [
       "<Figure size 432x288 with 1 Axes>"
      ]
     },
     "metadata": {
      "needs_background": "light"
     },
     "output_type": "display_data"
    }
   ],
   "source": [
    "from xgboost import plot_importance\n",
    "plot_importance(xgb1,max_num_features=20, show_values=False)"
   ]
  }
 ],
 "metadata": {
  "kernelspec": {
   "display_name": "Python 3",
   "language": "python",
   "name": "python3"
  },
  "language_info": {
   "codemirror_mode": {
    "name": "ipython",
    "version": 3
   },
   "file_extension": ".py",
   "mimetype": "text/x-python",
   "name": "python",
   "nbconvert_exporter": "python",
   "pygments_lexer": "ipython3",
   "version": "3.8.8"
  }
 },
 "nbformat": 4,
 "nbformat_minor": 4
}
